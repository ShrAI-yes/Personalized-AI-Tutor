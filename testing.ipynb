{
 "cells": [
  {
   "cell_type": "code",
   "execution_count": 3,
   "id": "73c1c75c-be6f-4597-9c42-f4c0d03f80e1",
   "metadata": {},
   "outputs": [],
   "source": [
    "from langchain.document_loaders import PyPDFLoader"
   ]
  },
  {
   "cell_type": "code",
   "execution_count": 4,
   "id": "b5befbe0-9c81-4aba-a134-a214e49258c5",
   "metadata": {},
   "outputs": [],
   "source": [
    "loader = PyPDFLoader('ICSE-Class-6-Physics-Chapter-4-Pressure.pdf')"
   ]
  },
  {
   "cell_type": "code",
   "execution_count": 5,
   "id": "3acc55f0-ec98-4568-9ff9-f4ba1ee83d4b",
   "metadata": {},
   "outputs": [],
   "source": [
    "docs = loader.load()"
   ]
  },
  {
   "cell_type": "code",
   "execution_count": 7,
   "id": "388159ce-2c63-46d2-9e63-9bffe3b24cf6",
   "metadata": {},
   "outputs": [
    {
     "data": {
      "text/plain": [
       "list"
      ]
     },
     "execution_count": 7,
     "metadata": {},
     "output_type": "execute_result"
    }
   ],
   "source": [
    "type(docs)"
   ]
  }
 ],
 "metadata": {
  "kernelspec": {
   "display_name": "Python [conda env:BE_Project] *",
   "language": "python",
   "name": "conda-env-BE_Project-py"
  },
  "language_info": {
   "codemirror_mode": {
    "name": "ipython",
    "version": 3
   },
   "file_extension": ".py",
   "mimetype": "text/x-python",
   "name": "python",
   "nbconvert_exporter": "python",
   "pygments_lexer": "ipython3",
   "version": "3.10.15"
  }
 },
 "nbformat": 4,
 "nbformat_minor": 5
}
